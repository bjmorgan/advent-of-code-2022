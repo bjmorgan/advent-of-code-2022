{
 "cells": [
  {
   "cell_type": "markdown",
   "id": "6cd9ca3c",
   "metadata": {},
   "source": [
    "https://adventofcode.com/2022/day/19"
   ]
  },
  {
   "cell_type": "code",
   "execution_count": 1,
   "id": "8851f2fc",
   "metadata": {},
   "outputs": [],
   "source": [
    "import numpy as np\n",
    "from dataclasses import dataclass, field\n",
    "from tqdm.notebook import tqdm\n",
    "import re"
   ]
  },
  {
   "cell_type": "code",
   "execution_count": 2,
   "id": "8194f8c2",
   "metadata": {},
   "outputs": [],
   "source": [
    "@dataclass\n",
    "class RobotFactory():\n",
    "    blueprint: int\n",
    "    costs: np.array\n",
    "    robots: np.array=field(init=False)\n",
    "    resources: np.array=field(init=False)\n",
    "        \n",
    "    def __post_init__(self):\n",
    "        self.robots = np.array([1,0,0,0])\n",
    "        self.resources = np.array([0,0,0,0])\n",
    "    \n",
    "    def quality_level(self, time):\n",
    "        return self.n_geodes(time) * self.blueprint\n",
    "    \n",
    "    def n_geodes(self, time):\n",
    "        return list(V_state(self.robots, self.resources, self.costs, T=1, T_max=time))[0]\n",
    "    \n",
    "    def __hash__(self):\n",
    "        return hash(tuple(self.robots) + tuple(self.resources))\n",
    "    \n",
    "    @classmethod\n",
    "    def from_input(cls, n):\n",
    "        return RobotFactory(blueprint=n[0],\n",
    "                            costs=np.array([[n[1], 0, 0, 0],\n",
    "                                            [n[2], 0, 0, 0],\n",
    "                                            [n[3], n[4], 0, 0],\n",
    "                                            [n[5], 0, n[6], 0]]))"
   ]
  },
  {
   "cell_type": "code",
   "execution_count": 3,
   "id": "2f6e70bb",
   "metadata": {},
   "outputs": [],
   "source": [
    "def can_build(costs, resources):\n",
    "    return np.all((costs - resources) <= 0, axis=1)\n",
    "    \n",
    "def useful_to_build(costs, robots, i):\n",
    "    return np.any(np.where(costs - robots > 0, costs-robots, 0)[:,i])\n",
    "\n",
    "# Backward induction\n",
    "def V_state(robots, resources, costs, T, T_max, best_robot=0, did_not_build=(), seen=None):\n",
    "    if seen is None:\n",
    "        seen = {}\n",
    "    V = robots[3]\n",
    "    if T == T_max:\n",
    "        value = V\n",
    "        policies = [-1]\n",
    "        return {value: policies}\n",
    "    else:\n",
    "        can_build_now = can_build(costs, resources)\n",
    "        next_policies = V_state(robots,\n",
    "                                resources+robots,\n",
    "                                costs,\n",
    "                                T+1,\n",
    "                                T_max=T_max,\n",
    "                                best_robot=best_robot,\n",
    "                                did_not_build=can_build_now,\n",
    "                                seen=seen)\n",
    "        p = max(next_policies.keys())\n",
    "        values = [V + p]\n",
    "        state = tuple(robots) + tuple(resources)\n",
    "        if state not in seen:\n",
    "            seen[state] = T\n",
    "        else:\n",
    "            seen[state] = min(seen[state], T)\n",
    "        policies = [[-1] + next_policies[p]]\n",
    "        options = (i for i in [0, 1, 2, 3]\n",
    "                   if (i >= best_robot-1) and \n",
    "                      (i not in list(np.where(did_not_build)[0])))\n",
    "        for policy in options:\n",
    "            if (not useful_to_build(costs, robots, policy)) and (policy != 3): continue\n",
    "            if can_build_now[policy]:\n",
    "                next_resources = resources - costs[policy] + robots\n",
    "                next_robots = robots + np.eye(4, dtype=int)[policy]\n",
    "                state = tuple(next_robots) + tuple(next_resources)\n",
    "                if T_old := seen.get(state):\n",
    "                    if T_old <= T: continue                 \n",
    "                next_policies = V_state(next_robots,\n",
    "                                        next_resources,\n",
    "                                        costs,\n",
    "                                        T+1,\n",
    "                                        T_max=T_max,\n",
    "                                        best_robot=policy,\n",
    "                                        seen=seen)\n",
    "                p = max(next_policies.keys())\n",
    "                values.append(V+p)\n",
    "                if state not in seen:\n",
    "                    seen[state] = T\n",
    "                else:\n",
    "                    seen[state] = min(seen[state], T)\n",
    "                \n",
    "                policies.append([policy] + next_policies[p])\n",
    "    possible_options = {v: p for v, p in zip(values, policies)}\n",
    "    return possible_options\n",
    "    \n",
    "def read_data(filename):\n",
    "    with open(filename, 'r') as f:\n",
    "        return f.readlines()\n",
    "\n",
    "def solve_part_1(filename):\n",
    "    summed_quality_level = 0\n",
    "    for line in tqdm(read_data(filename)):\n",
    "        n = list(map(int, re.findall('\\d+', line)))\n",
    "        rf = RobotFactory.from_input(n) \n",
    "        summed_quality_level += rf.quality_level(time=24)\n",
    "    return summed_quality_level\n",
    "\n",
    "def solve_part_2(filename):\n",
    "    geode_product = 1\n",
    "    for line in tqdm(read_data(filename)[:3]):\n",
    "        n = list(map(int, re.findall('\\d+', line)))\n",
    "        rf = RobotFactory.from_input(n)   \n",
    "        geode_product *= rf.n_geodes(time=32)\n",
    "    return geode_product   "
   ]
  },
  {
   "cell_type": "code",
   "execution_count": 4,
   "id": "53090066",
   "metadata": {},
   "outputs": [
    {
     "data": {
      "application/vnd.jupyter.widget-view+json": {
       "model_id": "53fccc039b51466489d565ad3b0cc1e6",
       "version_major": 2,
       "version_minor": 0
      },
      "text/plain": [
       "  0%|          | 0/2 [00:00<?, ?it/s]"
      ]
     },
     "metadata": {},
     "output_type": "display_data"
    },
    {
     "data": {
      "text/plain": [
       "33"
      ]
     },
     "execution_count": 4,
     "metadata": {},
     "output_type": "execute_result"
    }
   ],
   "source": [
    "filename = \"../example_data/day19_example_data.txt\"\n",
    "solve_part_1(filename)"
   ]
  },
  {
   "cell_type": "code",
   "execution_count": 5,
   "id": "9d7504fb",
   "metadata": {},
   "outputs": [
    {
     "data": {
      "application/vnd.jupyter.widget-view+json": {
       "model_id": "46c54eaa1da441f7915dc3325bcf1b07",
       "version_major": 2,
       "version_minor": 0
      },
      "text/plain": [
       "  0%|          | 0/30 [00:00<?, ?it/s]"
      ]
     },
     "metadata": {},
     "output_type": "display_data"
    },
    {
     "data": {
      "text/plain": [
       "1262"
      ]
     },
     "execution_count": 5,
     "metadata": {},
     "output_type": "execute_result"
    }
   ],
   "source": [
    "filename = \"../data/day19_data.txt\"\n",
    "solve_part_1(filename)"
   ]
  },
  {
   "cell_type": "code",
   "execution_count": 6,
   "id": "8c976956",
   "metadata": {},
   "outputs": [
    {
     "data": {
      "application/vnd.jupyter.widget-view+json": {
       "model_id": "91816788834a459cb049f81b6435dfd8",
       "version_major": 2,
       "version_minor": 0
      },
      "text/plain": [
       "  0%|          | 0/3 [00:00<?, ?it/s]"
      ]
     },
     "metadata": {},
     "output_type": "display_data"
    },
    {
     "data": {
      "text/plain": [
       "37191"
      ]
     },
     "execution_count": 6,
     "metadata": {},
     "output_type": "execute_result"
    }
   ],
   "source": [
    "filename = \"../data/day19_data.txt\"\n",
    "solve_part_2(filename)"
   ]
  }
 ],
 "metadata": {
  "kernelspec": {
   "display_name": "Python 3 (ipykernel)",
   "language": "python",
   "name": "python3"
  },
  "language_info": {
   "codemirror_mode": {
    "name": "ipython",
    "version": 3
   },
   "file_extension": ".py",
   "mimetype": "text/x-python",
   "name": "python",
   "nbconvert_exporter": "python",
   "pygments_lexer": "ipython3",
   "version": "3.11.0a6"
  }
 },
 "nbformat": 4,
 "nbformat_minor": 5
}
