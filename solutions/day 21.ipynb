{
 "cells": [
  {
   "cell_type": "markdown",
   "id": "b8853f12",
   "metadata": {},
   "source": [
    "https://adventofcode.com/2022/day/21"
   ]
  },
  {
   "cell_type": "code",
   "execution_count": 1,
   "id": "0d4bd1b2",
   "metadata": {},
   "outputs": [],
   "source": [
    "import re\n",
    "from operator import add, sub, mul, floordiv, truediv, eq\n",
    "from dataclasses import dataclass, field\n",
    "from typing import Optional, Self, Callable\n",
    "\n",
    "operators = {'-': sub,\n",
    "             '*': mul,\n",
    "             '+': add,\n",
    "             '/': truediv}\n",
    "\n",
    "inverse_operators = {'-': '+',\n",
    "                     '*': '/',\n",
    "                     '+': '-',\n",
    "                     '/': '*'}\n",
    "\n",
    "@dataclass\n",
    "class Monkey():\n",
    "    name: str\n",
    "    dependencies: Optional[list[str]]=None\n",
    "    operator: Optional[str]=None\n",
    "    number: Optional[int]=None\n",
    "    op: Optional[Callable]=field(init=False)\n",
    "        \n",
    "    def __post_init__(self):\n",
    "        if self.operator:\n",
    "            self.op = operators[self.operator]\n",
    "        \n",
    "    def get_value(self,\n",
    "                  monkeys: dict[Self]) -> int:\n",
    "        if self.number is None:\n",
    "            self.number = self.op(*[monkeys[d].get_value(monkeys)\n",
    "                                    for d in self.dependencies])\n",
    "        return self.number\n",
    "    \n",
    "    def all_dependencies(self,\n",
    "                         monkeys: dict[Self]) -> list[str]:\n",
    "        dependencies = []\n",
    "        queue = [self]\n",
    "        while queue:\n",
    "            m = queue.pop()\n",
    "            d = m.dependencies\n",
    "            if d:\n",
    "                for d_ in d:\n",
    "                    dependencies.append(d_)\n",
    "                    queue.append(monkeys[d_])\n",
    "        return dependencies\n",
    "\n",
    "op_func_re = re.compile('([a-z]{4}):\\s([a-z]{4})\\s([+\\-\\/*])\\s([a-z]{4})')\n",
    "int_func_re = re.compile('([a-z]{4}):\\s(\\d+)')\n",
    "\n",
    "def read_data(filename:str):\n",
    "    with open(filename, 'r') as f:\n",
    "        data = [line.strip() for line in f.readlines()]\n",
    "    return data\n",
    "\n",
    "def solve(c: int,\n",
    "          op: str,\n",
    "          a: Optional[int]=None,\n",
    "          b: Optional[int]=None) -> int:\n",
    "    \"\"\"solve equation of the form operation(a, b) = c\n",
    "       where either a or b might be unknown\"\"\"\n",
    "    if a is None: # solve for a\n",
    "        if op == '/':\n",
    "            func = lambda x: x - (b*c)\n",
    "        else:\n",
    "            operator = operators[op]\n",
    "            func = lambda x: operator(x, b) - c\n",
    "    else: # solve for b\n",
    "        if op == '/':\n",
    "            func = lambda x: a - (x*c)\n",
    "        else:\n",
    "            operator = operators[op]\n",
    "            func = lambda x: operator(a, x) - c\n",
    "    x = 0\n",
    "    y = func(x)\n",
    "    y_prime = (func(x-1) - func(x+1))/2\n",
    "    return x + y / y_prime # Newton's method\n",
    "\n",
    "def solve_monkeys(filename: str) -> list[Monkey]:\n",
    "    data = read_data(filename)\n",
    "    monkeys = {}\n",
    "    for line in data:\n",
    "        if c := re.findall(op_func_re, line):\n",
    "            a, d1, op, d2 = c[0]\n",
    "            monkeys[a] = Monkey(name=a, dependencies=[d1, d2], operator=op)\n",
    "        elif c := re.findall(int_func_re, line):\n",
    "            a, n = c[0]\n",
    "            monkeys[a] = Monkey(name=a, number=int(n))\n",
    "    return monkeys\n",
    "\n",
    "def solve_part_1(filename: str) -> int:\n",
    "    monkeys = solve_monkeys(filename)\n",
    "    return int(monkeys['root'].get_value(monkeys=monkeys))\n",
    "\n",
    "def solve_part_2(filename: str) -> int:\n",
    "    monkeys = solve_monkeys(filename)\n",
    "    monkeys['root'].operator = '-'\n",
    "    monkeys['root'].op = sub\n",
    "    target = 0\n",
    "    m = monkeys['root']\n",
    "    while m.dependencies:\n",
    "        d1, d2 = [monkeys[d] for d in m.dependencies]\n",
    "        if 'humn' not in d1.all_dependencies(monkeys) and d1.name != 'humn':\n",
    "            target = solve(target, op=m.operator, a=d1.get_value(monkeys))\n",
    "            m = d2\n",
    "        else:\n",
    "            target = solve(target, op=m.operator, b=d2.get_value(monkeys))\n",
    "            m = d1\n",
    "    return int(target)"
   ]
  },
  {
   "cell_type": "code",
   "execution_count": 2,
   "id": "747f1882",
   "metadata": {},
   "outputs": [
    {
     "data": {
      "text/plain": [
       "152"
      ]
     },
     "execution_count": 2,
     "metadata": {},
     "output_type": "execute_result"
    }
   ],
   "source": [
    "filename = \"../example_data/day21_example_data.txt\"\n",
    "solve_part_1(filename)"
   ]
  },
  {
   "cell_type": "code",
   "execution_count": 3,
   "id": "99ded4f0",
   "metadata": {},
   "outputs": [
    {
     "data": {
      "text/plain": [
       "145167969204648"
      ]
     },
     "execution_count": 3,
     "metadata": {},
     "output_type": "execute_result"
    }
   ],
   "source": [
    "filename = \"../data/day21_data.txt\"\n",
    "solve_part_1(filename)"
   ]
  },
  {
   "cell_type": "code",
   "execution_count": 4,
   "id": "3b3e4229",
   "metadata": {},
   "outputs": [
    {
     "data": {
      "text/plain": [
       "301"
      ]
     },
     "execution_count": 4,
     "metadata": {},
     "output_type": "execute_result"
    }
   ],
   "source": [
    "filename = \"../example_data/day21_example_data.txt\"\n",
    "solve_part_2(filename)"
   ]
  },
  {
   "cell_type": "code",
   "execution_count": 5,
   "id": "b14b98c5",
   "metadata": {},
   "outputs": [
    {
     "data": {
      "text/plain": [
       "3330805295850"
      ]
     },
     "execution_count": 5,
     "metadata": {},
     "output_type": "execute_result"
    }
   ],
   "source": [
    "filename = \"../data/day21_data.txt\"\n",
    "solve_part_2(filename)"
   ]
  }
 ],
 "metadata": {
  "kernelspec": {
   "display_name": "Python 3 (ipykernel)",
   "language": "python",
   "name": "python3"
  },
  "language_info": {
   "codemirror_mode": {
    "name": "ipython",
    "version": 3
   },
   "file_extension": ".py",
   "mimetype": "text/x-python",
   "name": "python",
   "nbconvert_exporter": "python",
   "pygments_lexer": "ipython3",
   "version": "3.11.0a6"
  }
 },
 "nbformat": 4,
 "nbformat_minor": 5
}
