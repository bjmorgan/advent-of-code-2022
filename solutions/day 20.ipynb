{
 "cells": [
  {
   "cell_type": "markdown",
   "id": "f52d6096",
   "metadata": {},
   "source": [
    "https://adventofcode.com/2022/day/20"
   ]
  },
  {
   "cell_type": "code",
   "execution_count": 1,
   "id": "18a5399f",
   "metadata": {},
   "outputs": [],
   "source": [
    "from dataclasses import dataclass, field\n",
    "from typing import Optional, Self\n",
    "from tqdm.notebook import tqdm\n",
    "\n",
    "@dataclass\n",
    "class Node():\n",
    "    value: int\n",
    "#     index: int\n",
    "    left: Optional[int]=None\n",
    "    right: Optional[int]=None\n",
    "    is_head: bool=False\n",
    "    to_self: Optional[int]=None\n",
    "        \n",
    "    def get_left(self,\n",
    "                 n: int=1) -> Self:\n",
    "        if n==0:\n",
    "            return self\n",
    "        to_return = self.left\n",
    "        n -= 1\n",
    "        while n:\n",
    "            to_return = to_return.left\n",
    "            if to_return != self:\n",
    "                n -= 1\n",
    "        return to_return\n",
    "        \n",
    "    def get_right(self,\n",
    "                  n: int=1) -> Self:\n",
    "        if n==0:\n",
    "            return self\n",
    "        to_return = self.right\n",
    "        n -= 1\n",
    "        while n:\n",
    "            to_return = to_return.right\n",
    "            if to_return != self:\n",
    "                n -= 1\n",
    "        return to_return\n",
    "        \n",
    "    def __repr__(self) -> str:\n",
    "        return f\"Node(value={self.value})\"\n",
    "\n",
    "    @property\n",
    "    def loc(self) -> int:\n",
    "        loc = 0\n",
    "        p = self\n",
    "        while not p.is_head:\n",
    "            loc += 1\n",
    "            p = p.get_left()\n",
    "        return loc\n",
    "    \n",
    "    def move_between(self,\n",
    "                     new_left: Self,\n",
    "                     new_right: Self) -> None:\n",
    "        assert (new_left.right == new_right) and (new_right.left == new_left)\n",
    "        old_left = self.left\n",
    "        old_right = self.right\n",
    "        self.right = new_right\n",
    "        self.left = new_left\n",
    "        new_left.right = self\n",
    "        new_right.left = self\n",
    "        old_left.right = old_right\n",
    "        old_right.left = old_left\n",
    "        if self.is_head:\n",
    "            self.is_head = False\n",
    "            old_right.is_head = True\n",
    "        \n",
    "    def move_right(self,\n",
    "                   n: int=1) -> None:\n",
    "        if self.to_self:\n",
    "            n = n%self.to_self\n",
    "        if n==0:\n",
    "            return\n",
    "        destination = self.get_right(n)\n",
    "        new_left = destination\n",
    "        new_right = destination.get_right()\n",
    "        self.move_between(new_left, new_right)\n",
    "        \n",
    "    def move_left(self,\n",
    "                  n: int=1) -> None:\n",
    "        if self.to_self:\n",
    "            n = n%self.to_self\n",
    "        if n==0:\n",
    "            return\n",
    "        destination = self.get_left(n)\n",
    "        new_left = destination.get_left()\n",
    "        new_right = destination\n",
    "        self.move_between(new_left, new_right)\n",
    "        \n",
    "    def move(self,\n",
    "             n: int) -> None:\n",
    "        if n > 0:\n",
    "            self.move_right(n)\n",
    "        elif n < 0:\n",
    "            self.move_left(-n)\n",
    "            \n",
    "    @property\n",
    "    def loc(self) -> int:\n",
    "        if self.is_head:\n",
    "            return 0\n",
    "        n = 1\n",
    "        node = self.get_left()\n",
    "        while not node.is_head:\n",
    "            n += 1\n",
    "            node = node.get_left()\n",
    "        return n\n",
    "        \n",
    "\n",
    "@dataclass\n",
    "class File():\n",
    "    nodes: list[Node]\n",
    "        \n",
    "    def __post_init__(self):\n",
    "        self.nodes[0].is_head = True\n",
    "\n",
    "    @property\n",
    "    def head(self):\n",
    "        return next(n for n in self.nodes if n.is_head)\n",
    "    \n",
    "    @classmethod\n",
    "    def from_nodes(cls,\n",
    "                   nodes: list[Node]) -> Self:\n",
    "        for i, (n_l, n_r) in enumerate(zip(nodes[:-1], nodes[1:])):\n",
    "            n_l.right = n_r\n",
    "            n_r.left = n_l\n",
    "        nodes[-1].right = nodes[0]\n",
    "        nodes[0].left = nodes[-1]\n",
    "        for n in nodes:\n",
    "            n.to_self = len(nodes)-1\n",
    "            # subtract 1, because if we complete a full cycle we don't count\n",
    "            # the number being moved.\n",
    "        return cls(nodes)\n",
    "    \n",
    "    def as_list_of_values(self) -> list[int]:\n",
    "        return [n.value for n in self.as_list()]\n",
    "    \n",
    "    def as_list(self) -> list[Node]:\n",
    "        to_return = [self.head]\n",
    "        node = self.head.get_right()\n",
    "        while node != self.head:\n",
    "            to_return.append(node)\n",
    "            node = node.get_right()\n",
    "        return to_return\n",
    "    \n",
    "    def __getitem__(self,\n",
    "                    i: int) -> Node:\n",
    "        return self.as_list()[i%len(self.nodes)]\n",
    "    \n",
    "    def __len__(self) -> int:\n",
    "        return len(self.numbers)\n",
    "    \n",
    "    def node_by_value(self,\n",
    "                      value: int) -> Node:\n",
    "        # Warning: this can only be used for the unique node with value 0 in the real data\n",
    "        return next(n for n in self.nodes if n.value == value)\n",
    "    \n",
    "def read_data(filename: str) -> list[int]:\n",
    "    with open(filename, 'r') as f:\n",
    "        data = list(map(int, f.readlines()))\n",
    "    return data\n",
    "\n",
    "def solve_part_1(filename: str) -> int:\n",
    "    data = read_data(filename)\n",
    "    nodes = [Node(i) for i in data]\n",
    "    file = File.from_nodes(nodes)\n",
    "    for node in tqdm(file.nodes):\n",
    "        node.move(node.value)\n",
    "    loc0 = file.node_by_value(0).loc\n",
    "    return sum(file[loc0+i].value for i in (1000, 2000, 3000))\n",
    "\n",
    "def solve_part_2(filename: str, decryption_key=811589153) -> int:\n",
    "    data = read_data(filename)\n",
    "    nodes = [Node(i * decryption_key) for i in data]\n",
    "    file = File.from_nodes(nodes)\n",
    "    for i in tqdm(range(10)):\n",
    "        for node in tqdm(file.nodes, leave=False):\n",
    "            node.move(node.value)\n",
    "    loc0 = file.node_by_value(0).loc\n",
    "    return sum(file[loc0+i].value for i in (1000, 2000, 3000))"
   ]
  },
  {
   "cell_type": "code",
   "execution_count": 2,
   "id": "02b8ce3d",
   "metadata": {},
   "outputs": [
    {
     "data": {
      "application/vnd.jupyter.widget-view+json": {
       "model_id": "1e8245a6c91349c3af9c32fd05935840",
       "version_major": 2,
       "version_minor": 0
      },
      "text/plain": [
       "  0%|          | 0/7 [00:00<?, ?it/s]"
      ]
     },
     "metadata": {},
     "output_type": "display_data"
    },
    {
     "data": {
      "text/plain": [
       "3"
      ]
     },
     "execution_count": 2,
     "metadata": {},
     "output_type": "execute_result"
    }
   ],
   "source": [
    "filename = \"../example_data/day20_example_data.txt\"\n",
    "solve_part_1(filename)"
   ]
  },
  {
   "cell_type": "code",
   "execution_count": 3,
   "id": "2ecb2b68",
   "metadata": {
    "scrolled": true
   },
   "outputs": [
    {
     "data": {
      "application/vnd.jupyter.widget-view+json": {
       "model_id": "acbe814977be4333b4ec75ebaa6032a3",
       "version_major": 2,
       "version_minor": 0
      },
      "text/plain": [
       "  0%|          | 0/5000 [00:00<?, ?it/s]"
      ]
     },
     "metadata": {},
     "output_type": "display_data"
    },
    {
     "data": {
      "text/plain": [
       "4426"
      ]
     },
     "execution_count": 3,
     "metadata": {},
     "output_type": "execute_result"
    }
   ],
   "source": [
    "filename = \"../data/day20_data.txt\"\n",
    "solve_part_1(filename)"
   ]
  },
  {
   "cell_type": "code",
   "execution_count": 4,
   "id": "833b54f2",
   "metadata": {},
   "outputs": [
    {
     "data": {
      "application/vnd.jupyter.widget-view+json": {
       "model_id": "520b546f29f145799e1c2c4deb4df882",
       "version_major": 2,
       "version_minor": 0
      },
      "text/plain": [
       "  0%|          | 0/10 [00:00<?, ?it/s]"
      ]
     },
     "metadata": {},
     "output_type": "display_data"
    },
    {
     "data": {
      "application/vnd.jupyter.widget-view+json": {
       "model_id": "",
       "version_major": 2,
       "version_minor": 0
      },
      "text/plain": [
       "  0%|          | 0/7 [00:00<?, ?it/s]"
      ]
     },
     "metadata": {},
     "output_type": "display_data"
    },
    {
     "data": {
      "application/vnd.jupyter.widget-view+json": {
       "model_id": "",
       "version_major": 2,
       "version_minor": 0
      },
      "text/plain": [
       "  0%|          | 0/7 [00:00<?, ?it/s]"
      ]
     },
     "metadata": {},
     "output_type": "display_data"
    },
    {
     "data": {
      "application/vnd.jupyter.widget-view+json": {
       "model_id": "",
       "version_major": 2,
       "version_minor": 0
      },
      "text/plain": [
       "  0%|          | 0/7 [00:00<?, ?it/s]"
      ]
     },
     "metadata": {},
     "output_type": "display_data"
    },
    {
     "data": {
      "application/vnd.jupyter.widget-view+json": {
       "model_id": "",
       "version_major": 2,
       "version_minor": 0
      },
      "text/plain": [
       "  0%|          | 0/7 [00:00<?, ?it/s]"
      ]
     },
     "metadata": {},
     "output_type": "display_data"
    },
    {
     "data": {
      "application/vnd.jupyter.widget-view+json": {
       "model_id": "",
       "version_major": 2,
       "version_minor": 0
      },
      "text/plain": [
       "  0%|          | 0/7 [00:00<?, ?it/s]"
      ]
     },
     "metadata": {},
     "output_type": "display_data"
    },
    {
     "data": {
      "application/vnd.jupyter.widget-view+json": {
       "model_id": "",
       "version_major": 2,
       "version_minor": 0
      },
      "text/plain": [
       "  0%|          | 0/7 [00:00<?, ?it/s]"
      ]
     },
     "metadata": {},
     "output_type": "display_data"
    },
    {
     "data": {
      "application/vnd.jupyter.widget-view+json": {
       "model_id": "",
       "version_major": 2,
       "version_minor": 0
      },
      "text/plain": [
       "  0%|          | 0/7 [00:00<?, ?it/s]"
      ]
     },
     "metadata": {},
     "output_type": "display_data"
    },
    {
     "data": {
      "application/vnd.jupyter.widget-view+json": {
       "model_id": "",
       "version_major": 2,
       "version_minor": 0
      },
      "text/plain": [
       "  0%|          | 0/7 [00:00<?, ?it/s]"
      ]
     },
     "metadata": {},
     "output_type": "display_data"
    },
    {
     "data": {
      "application/vnd.jupyter.widget-view+json": {
       "model_id": "",
       "version_major": 2,
       "version_minor": 0
      },
      "text/plain": [
       "  0%|          | 0/7 [00:00<?, ?it/s]"
      ]
     },
     "metadata": {},
     "output_type": "display_data"
    },
    {
     "data": {
      "application/vnd.jupyter.widget-view+json": {
       "model_id": "",
       "version_major": 2,
       "version_minor": 0
      },
      "text/plain": [
       "  0%|          | 0/7 [00:00<?, ?it/s]"
      ]
     },
     "metadata": {},
     "output_type": "display_data"
    },
    {
     "data": {
      "text/plain": [
       "1623178306"
      ]
     },
     "execution_count": 4,
     "metadata": {},
     "output_type": "execute_result"
    }
   ],
   "source": [
    "filename = \"../example_data/day20_example_data.txt\"\n",
    "solve_part_2(filename)"
   ]
  },
  {
   "cell_type": "code",
   "execution_count": 5,
   "id": "f1f667e9",
   "metadata": {},
   "outputs": [
    {
     "data": {
      "application/vnd.jupyter.widget-view+json": {
       "model_id": "2e7678ce882149da8b832392ce1e3481",
       "version_major": 2,
       "version_minor": 0
      },
      "text/plain": [
       "  0%|          | 0/10 [00:00<?, ?it/s]"
      ]
     },
     "metadata": {},
     "output_type": "display_data"
    },
    {
     "data": {
      "application/vnd.jupyter.widget-view+json": {
       "model_id": "",
       "version_major": 2,
       "version_minor": 0
      },
      "text/plain": [
       "  0%|          | 0/5000 [00:00<?, ?it/s]"
      ]
     },
     "metadata": {},
     "output_type": "display_data"
    },
    {
     "data": {
      "application/vnd.jupyter.widget-view+json": {
       "model_id": "",
       "version_major": 2,
       "version_minor": 0
      },
      "text/plain": [
       "  0%|          | 0/5000 [00:00<?, ?it/s]"
      ]
     },
     "metadata": {},
     "output_type": "display_data"
    },
    {
     "data": {
      "application/vnd.jupyter.widget-view+json": {
       "model_id": "",
       "version_major": 2,
       "version_minor": 0
      },
      "text/plain": [
       "  0%|          | 0/5000 [00:00<?, ?it/s]"
      ]
     },
     "metadata": {},
     "output_type": "display_data"
    },
    {
     "data": {
      "application/vnd.jupyter.widget-view+json": {
       "model_id": "",
       "version_major": 2,
       "version_minor": 0
      },
      "text/plain": [
       "  0%|          | 0/5000 [00:00<?, ?it/s]"
      ]
     },
     "metadata": {},
     "output_type": "display_data"
    },
    {
     "data": {
      "application/vnd.jupyter.widget-view+json": {
       "model_id": "",
       "version_major": 2,
       "version_minor": 0
      },
      "text/plain": [
       "  0%|          | 0/5000 [00:00<?, ?it/s]"
      ]
     },
     "metadata": {},
     "output_type": "display_data"
    },
    {
     "data": {
      "application/vnd.jupyter.widget-view+json": {
       "model_id": "",
       "version_major": 2,
       "version_minor": 0
      },
      "text/plain": [
       "  0%|          | 0/5000 [00:00<?, ?it/s]"
      ]
     },
     "metadata": {},
     "output_type": "display_data"
    },
    {
     "data": {
      "application/vnd.jupyter.widget-view+json": {
       "model_id": "",
       "version_major": 2,
       "version_minor": 0
      },
      "text/plain": [
       "  0%|          | 0/5000 [00:00<?, ?it/s]"
      ]
     },
     "metadata": {},
     "output_type": "display_data"
    },
    {
     "data": {
      "application/vnd.jupyter.widget-view+json": {
       "model_id": "",
       "version_major": 2,
       "version_minor": 0
      },
      "text/plain": [
       "  0%|          | 0/5000 [00:00<?, ?it/s]"
      ]
     },
     "metadata": {},
     "output_type": "display_data"
    },
    {
     "data": {
      "application/vnd.jupyter.widget-view+json": {
       "model_id": "",
       "version_major": 2,
       "version_minor": 0
      },
      "text/plain": [
       "  0%|          | 0/5000 [00:00<?, ?it/s]"
      ]
     },
     "metadata": {},
     "output_type": "display_data"
    },
    {
     "data": {
      "application/vnd.jupyter.widget-view+json": {
       "model_id": "",
       "version_major": 2,
       "version_minor": 0
      },
      "text/plain": [
       "  0%|          | 0/5000 [00:00<?, ?it/s]"
      ]
     },
     "metadata": {},
     "output_type": "display_data"
    },
    {
     "data": {
      "text/plain": [
       "8119137886612"
      ]
     },
     "execution_count": 5,
     "metadata": {},
     "output_type": "execute_result"
    }
   ],
   "source": [
    "filename = \"../data/day20_data.txt\"\n",
    "solve_part_2(filename)"
   ]
  }
 ],
 "metadata": {
  "kernelspec": {
   "display_name": "Python 3 (ipykernel)",
   "language": "python",
   "name": "python3"
  },
  "language_info": {
   "codemirror_mode": {
    "name": "ipython",
    "version": 3
   },
   "file_extension": ".py",
   "mimetype": "text/x-python",
   "name": "python",
   "nbconvert_exporter": "python",
   "pygments_lexer": "ipython3",
   "version": "3.11.0a6"
  }
 },
 "nbformat": 4,
 "nbformat_minor": 5
}
