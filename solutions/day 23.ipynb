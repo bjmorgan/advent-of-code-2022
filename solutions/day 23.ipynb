{
 "cells": [
  {
   "cell_type": "markdown",
   "id": "639eaa81",
   "metadata": {},
   "source": [
    "https://adventofcode.com/2022/day/23"
   ]
  },
  {
   "cell_type": "code",
   "execution_count": 11,
   "id": "a9ece773",
   "metadata": {},
   "outputs": [],
   "source": [
    "import numpy as np\n",
    "from dataclasses import dataclass"
   ]
  },
  {
   "cell_type": "code",
   "execution_count": 9,
   "id": "023193df",
   "metadata": {},
   "outputs": [],
   "source": [
    "def load_data(filename):\n",
    "    with open(filename, 'r') as f:\n",
    "        lines = f.read().split('\\n')\n",
    "    return [list(line) for line in lines]"
   ]
  },
  {
   "cell_type": "code",
   "execution_count": 13,
   "id": "4f5b864d",
   "metadata": {},
   "outputs": [],
   "source": [
    "filename = \"../example_data/day23_example_data.txt\"\n",
    "data = load_data(filename)\n",
    "\n",
    "@dataclass\n",
    "class Elf():\n",
    "    loc: np.ndarray\n",
    "\n",
    "elves = []\n",
    "for y, row in enumerate(data):\n",
    "    for x, s in enumerate(row):\n",
    "        if s == '#':\n",
    "            elves.append(Elf(loc=np.array([x, y])))\n",
    "            \n",
    "\n"
   ]
  },
  {
   "cell_type": "code",
   "execution_count": 14,
   "id": "ea675131",
   "metadata": {},
   "outputs": [
    {
     "data": {
      "text/plain": [
       "[Elf(loc=array([4, 0])),\n",
       " Elf(loc=array([2, 1])),\n",
       " Elf(loc=array([3, 1])),\n",
       " Elf(loc=array([4, 1])),\n",
       " Elf(loc=array([6, 1])),\n",
       " Elf(loc=array([0, 2])),\n",
       " Elf(loc=array([4, 2])),\n",
       " Elf(loc=array([6, 2])),\n",
       " Elf(loc=array([1, 3])),\n",
       " Elf(loc=array([5, 3])),\n",
       " Elf(loc=array([6, 3])),\n",
       " Elf(loc=array([0, 4])),\n",
       " Elf(loc=array([2, 4])),\n",
       " Elf(loc=array([3, 4])),\n",
       " Elf(loc=array([4, 4])),\n",
       " Elf(loc=array([0, 5])),\n",
       " Elf(loc=array([1, 5])),\n",
       " Elf(loc=array([3, 5])),\n",
       " Elf(loc=array([5, 5])),\n",
       " Elf(loc=array([6, 5])),\n",
       " Elf(loc=array([1, 6])),\n",
       " Elf(loc=array([4, 6]))]"
      ]
     },
     "execution_count": 14,
     "metadata": {},
     "output_type": "execute_result"
    }
   ],
   "source": [
    "elves"
   ]
  },
  {
   "cell_type": "code",
   "execution_count": null,
   "id": "8ec1c859",
   "metadata": {},
   "outputs": [],
   "source": []
  }
 ],
 "metadata": {
  "kernelspec": {
   "display_name": "Python 3 (ipykernel)",
   "language": "python",
   "name": "python3"
  },
  "language_info": {
   "codemirror_mode": {
    "name": "ipython",
    "version": 3
   },
   "file_extension": ".py",
   "mimetype": "text/x-python",
   "name": "python",
   "nbconvert_exporter": "python",
   "pygments_lexer": "ipython3",
   "version": "3.11.0a6"
  }
 },
 "nbformat": 4,
 "nbformat_minor": 5
}
