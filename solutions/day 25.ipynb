{
 "cells": [
  {
   "cell_type": "markdown",
   "id": "e10cc3b8",
   "metadata": {},
   "source": [
    "https://adventofcode.com/2022/day/25"
   ]
  },
  {
   "cell_type": "code",
   "execution_count": 1,
   "id": "c48f7174",
   "metadata": {},
   "outputs": [],
   "source": [
    "s_to_num = {'2': 2,\n",
    "            '1': 1,\n",
    "            '0': 0,\n",
    "            '-': -1,\n",
    "            '=': -2}\n",
    "\n",
    "num_to_s = {0: '0',\n",
    "            1: '1',\n",
    "            2: '2',\n",
    "            3: '=',\n",
    "            4: '-'}\n",
    "\n",
    "def snafu_to_decimal(number: str) -> int:\n",
    "    i = 0\n",
    "    n_list = list(number)\n",
    "    num = 0\n",
    "    while n_list:\n",
    "        s = n_list.pop()\n",
    "        num += s_to_num[s]*5**i\n",
    "        i += 1\n",
    "    return num\n",
    "\n",
    "def decimal_to_snafu(n: int) -> str:\n",
    "    if n == 0:\n",
    "        return [0]\n",
    "    digits = ''\n",
    "    while n:\n",
    "        digits += num_to_s[n % 5]\n",
    "        n = (n+2)//5\n",
    "    return digits[::-1]"
   ]
  },
  {
   "cell_type": "code",
   "execution_count": 2,
   "id": "469511fc",
   "metadata": {},
   "outputs": [
    {
     "data": {
      "text/plain": [
       "'2=000=22-0-102=-1001'"
      ]
     },
     "execution_count": 2,
     "metadata": {},
     "output_type": "execute_result"
    }
   ],
   "source": [
    "filename = \"../data/day25_data.txt\"\n",
    "with open(filename, 'r') as f:\n",
    "    data = f.read().split('\\n')\n",
    "decimal_to_snafu(sum([snafu_to_decimal(d) for d in data]))"
   ]
  }
 ],
 "metadata": {
  "kernelspec": {
   "display_name": "Python 3 (ipykernel)",
   "language": "python",
   "name": "python3"
  },
  "language_info": {
   "codemirror_mode": {
    "name": "ipython",
    "version": 3
   },
   "file_extension": ".py",
   "mimetype": "text/x-python",
   "name": "python",
   "nbconvert_exporter": "python",
   "pygments_lexer": "ipython3",
   "version": "3.11.0a6"
  }
 },
 "nbformat": 4,
 "nbformat_minor": 5
}
